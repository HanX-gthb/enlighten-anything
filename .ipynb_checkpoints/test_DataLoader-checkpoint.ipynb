{
 "cells": [
  {
   "cell_type": "code",
   "execution_count": 3,
   "id": "901b3d51-d5da-453c-8150-79137cc22b63",
   "metadata": {},
   "outputs": [],
   "source": [
    "import numpy as np\n",
    "import torch\n",
    "import torch.utils.data\n",
    "import random\n",
    "from PIL import Image\n",
    "from glob import glob\n",
    "import torchvision.transforms as transforms\n",
    "import os\n",
    "from multi_read_data import MemoryFriendlyLoader"
   ]
  },
  {
   "cell_type": "code",
   "execution_count": 31,
   "id": "66db103b-40a9-41f7-a30c-eb847ccd2c7d",
   "metadata": {},
   "outputs": [],
   "source": [
    "low_img_dir = '../LOL/our485/high'\n",
    "sem_dir = \"../LOL/our485/high_semantic\"\n",
    "\n",
    "low_img_names = []\n",
    "sem_names = []\n",
    "for name in os.listdir(low_img_dir):\n",
    "    if name.endswith('.jpg') or name.endswith('.png'):\n",
    "        \n",
    "        # print(root)\n",
    "        # break\n",
    "        low_img_names.append(os.path.join(root, name))\n",
    "        sem_names.append(os.path.join(root, f'{os.path.splitext(name)[0]}_semantic.png'))\n",
    "        \n",
    "\n",
    "\n",
    "# for root, dirs, names in os.walk(sem_dir):\n",
    "#     for name in names:\n",
    "#         if name.endswith('.jpg') or name.endswith('.png'):\n",
    "#             sem_names.append(os.path.join(root, name))\n",
    "\n",
    "\n",
    "# low_img_names.sort()\n",
    "# sem_names.sort()"
   ]
  },
  {
   "cell_type": "code",
   "execution_count": 32,
   "id": "fa950c78-337d-4fff-a99a-c2635c0d977e",
   "metadata": {},
   "outputs": [
    {
     "data": {
      "text/plain": [
       "['../LOL/our485/high/638.png',\n",
       " '../LOL/our485/high/176.png',\n",
       " '../LOL/our485/high/88.png',\n",
       " '../LOL/our485/high/610.png',\n",
       " '../LOL/our485/high/604.png',\n",
       " '../LOL/our485/high/162.png',\n",
       " '../LOL/our485/high/189.png',\n",
       " '../LOL/our485/high/77.png',\n",
       " '../LOL/our485/high/63.png',\n",
       " '../LOL/our485/high/758.png']"
      ]
     },
     "execution_count": 32,
     "metadata": {},
     "output_type": "execute_result"
    }
   ],
   "source": [
    "low_img_names[:10]"
   ]
  },
  {
   "cell_type": "code",
   "execution_count": 33,
   "id": "afd59a49-689b-416d-b2bf-7fd45b741c89",
   "metadata": {},
   "outputs": [
    {
     "data": {
      "text/plain": [
       "['../LOL/our485/high/638_semantic.png',\n",
       " '../LOL/our485/high/176_semantic.png',\n",
       " '../LOL/our485/high/88_semantic.png',\n",
       " '../LOL/our485/high/610_semantic.png',\n",
       " '../LOL/our485/high/604_semantic.png',\n",
       " '../LOL/our485/high/162_semantic.png',\n",
       " '../LOL/our485/high/189_semantic.png',\n",
       " '../LOL/our485/high/77_semantic.png',\n",
       " '../LOL/our485/high/63_semantic.png',\n",
       " '../LOL/our485/high/758_semantic.png']"
      ]
     },
     "execution_count": 33,
     "metadata": {},
     "output_type": "execute_result"
    }
   ],
   "source": [
    "sem_names[:10]"
   ]
  },
  {
   "cell_type": "code",
   "execution_count": 4,
   "id": "9571071a-f4d4-4712-8078-13a13b742fb4",
   "metadata": {},
   "outputs": [],
   "source": [
    "train_low_data_names = '../LOL/train480/high'\n",
    "sem_dir = \"../LOL/train480/high_semantic\"\n",
    "TrainDataset = MemoryFriendlyLoader(train_low_data_names, sem_dir)"
   ]
  },
  {
   "cell_type": "code",
   "execution_count": 5,
   "id": "dca386b7-30c2-4f14-9c55-deb017f61ebb",
   "metadata": {},
   "outputs": [],
   "source": [
    "train_queue = torch.utils.data.DataLoader(\n",
    "    TrainDataset, batch_size=5,\n",
    "    # pin_memory=True, \n",
    "    num_workers=0, shuffle=True)"
   ]
  },
  {
   "cell_type": "code",
   "execution_count": 8,
   "id": "37d392d3-bca7-4ab7-9656-c7c888f2f384",
   "metadata": {
    "tags": []
   },
   "outputs": [
    {
     "name": "stdout",
     "output_type": "stream",
     "text": [
      "torch.Size([5, 3, 400, 600])\n",
      "torch.Size([5, 3, 400, 600])\n"
     ]
    }
   ],
   "source": [
    "from model import *\n",
    "model = Network(stage=3)\n",
    "for batch_idx, (in_, sem_, imgname_, semname_ ) in enumerate(train_queue):\n",
    "    print(in_.shape)\n",
    "    print(sem_.shape)\n",
    "    break"
   ]
  },
  {
   "cell_type": "code",
   "execution_count": 40,
   "id": "e1195bbc-1fa8-44a3-a903-24292cd81226",
   "metadata": {},
   "outputs": [],
   "source": [
    "transform_list = []\n",
    "transform_list += [transforms.ToTensor()]\n",
    "transform = transforms.Compose(transform_list)\n",
    "\n",
    "def load_images_transform(file):\n",
    "    im = Image.open(file).convert('RGB')\n",
    "    img_norm = transform(im).numpy()\n",
    "    return img_norm"
   ]
  },
  {
   "cell_type": "code",
   "execution_count": 41,
   "id": "01468d8a-e5f0-445d-88ba-bc35379de619",
   "metadata": {
    "collapsed": true,
    "jupyter": {
     "outputs_hidden": true
    },
    "tags": []
   },
   "outputs": [
    {
     "name": "stdout",
     "output_type": "stream",
     "text": [
      "[[[0.08627451 0.11764706 0.12156863 ... 0.11372549 0.11764706 0.10980392]\n",
      "  [0.11764706 0.13333334 0.1254902  ... 0.1254902  0.10588235 0.12941177]\n",
      "  [0.1254902  0.13333334 0.13333334 ... 0.11764706 0.12156863 0.11764706]\n",
      "  ...\n",
      "  [0.00392157 0.         0.00392157 ... 0.20784314 0.2        0.21568628]\n",
      "  [0.         0.00784314 0.00392157 ... 0.20784314 0.21568628 0.22745098]\n",
      "  [0.00392157 0.         0.         ... 0.20784314 0.21960784 0.20392157]]\n",
      "\n",
      " [[0.14509805 0.1764706  0.16862746 ... 0.14901961 0.13333334 0.14117648]\n",
      "  [0.15294118 0.16862746 0.18431373 ... 0.14509805 0.14509805 0.14509805]\n",
      "  [0.18039216 0.16862746 0.18431373 ... 0.14509805 0.14509805 0.14117648]\n",
      "  ...\n",
      "  [0.01960784 0.01176471 0.01176471 ... 0.3019608  0.29411766 0.30980393]\n",
      "  [0.02745098 0.02352941 0.01176471 ... 0.30588236 0.29803923 0.3019608 ]\n",
      "  [0.01568628 0.01568628 0.01568628 ... 0.30980393 0.30588236 0.3019608 ]]\n",
      "\n",
      " [[0.15294118 0.21568628 0.21568628 ... 0.16470589 0.15686275 0.15294118]\n",
      "  [0.1882353  0.2        0.21568628 ... 0.16078432 0.15686275 0.16078432]\n",
      "  [0.20784314 0.19607843 0.21960784 ... 0.14901961 0.16078432 0.14901961]\n",
      "  ...\n",
      "  [0.04705882 0.03921569 0.05490196 ... 0.36862746 0.37254903 0.3647059 ]\n",
      "  [0.04313726 0.03921569 0.03921569 ... 0.37254903 0.37254903 0.38039216]\n",
      "  [0.05098039 0.03921569 0.03137255 ... 0.36862746 0.36862746 0.36862746]]]\n"
     ]
    }
   ],
   "source": [
    "low = load_images_transform(\"data/medium/00001.png\")\n",
    "low.shape, low.max()\n",
    "print(low)"
   ]
  },
  {
   "cell_type": "code",
   "execution_count": 26,
   "id": "5dbcd153-e72e-4879-9c1e-04621256f2d2",
   "metadata": {},
   "outputs": [
    {
     "data": {
      "text/plain": [
       "((3, 400, 600), 1.0)"
      ]
     },
     "execution_count": 26,
     "metadata": {},
     "output_type": "execute_result"
    }
   ],
   "source": [
    "s2 = load_images_transform(\"../LOL/our485/high/106.png\")\n",
    "s2.shape, s2.max()"
   ]
  },
  {
   "cell_type": "code",
   "execution_count": 12,
   "id": "6c3f0ffd-2b7b-4f1a-92c1-e074c3218900",
   "metadata": {},
   "outputs": [
    {
     "data": {
      "text/plain": [
       "0.0035819053"
      ]
     },
     "execution_count": 12,
     "metadata": {},
     "output_type": "execute_result"
    }
   ],
   "source": []
  },
  {
   "cell_type": "code",
   "execution_count": 20,
   "id": "969a87fc-c38e-4c0b-88e1-f837e233880b",
   "metadata": {},
   "outputs": [
    {
     "data": {
      "text/plain": [
       "((3, 400, 600), 1.0)"
      ]
     },
     "execution_count": 20,
     "metadata": {},
     "output_type": "execute_result"
    }
   ],
   "source": [
    "s = load_images_transform(\"../LOL/our485/high_semantic/100_semantic.png\")\n",
    "s.shape, s.max()"
   ]
  },
  {
   "cell_type": "code",
   "execution_count": 22,
   "id": "f108b677-d166-428a-ac3f-10adbd813d26",
   "metadata": {},
   "outputs": [
    {
     "data": {
      "text/plain": [
       "0.0"
      ]
     },
     "execution_count": 22,
     "metadata": {},
     "output_type": "execute_result"
    }
   ],
   "source": [
    "s.min()"
   ]
  },
  {
   "cell_type": "code",
   "execution_count": 9,
   "id": "5d6df002-1d9a-419e-a60f-b50de13329cc",
   "metadata": {},
   "outputs": [],
   "source": [
    "from PIL import Image\n",
    "import numpy as np\n"
   ]
  },
  {
   "cell_type": "code",
   "execution_count": 33,
   "id": "496a052f-3d3e-4b49-8531-72607f5dab25",
   "metadata": {},
   "outputs": [
    {
     "data": {
      "text/plain": [
       "(3, 448, 1119)"
      ]
     },
     "execution_count": 33,
     "metadata": {},
     "output_type": "execute_result"
    }
   ],
   "source": [
    "np.array(transforms.ToTensor()(Image.open(\"Figs/Det_1.png\").convert('RGB'))).shape"
   ]
  },
  {
   "cell_type": "code",
   "execution_count": 32,
   "id": "73d8f8d6-92da-4641-bcc5-93f962a3315e",
   "metadata": {},
   "outputs": [
    {
     "data": {
      "text/plain": [
       "(448, 1119, 3)"
      ]
     },
     "execution_count": 32,
     "metadata": {},
     "output_type": "execute_result"
    }
   ],
   "source": [
    "np.array(Image.open(\"Figs/Det_1.png\").convert('RGB')).shape"
   ]
  },
  {
   "cell_type": "code",
   "execution_count": 1,
   "id": "319ec5e3-ac33-497e-a4ea-d01ec8d96a31",
   "metadata": {},
   "outputs": [],
   "source": [
    "import torch\n",
    "blocks = torch.nn.ModuleList()"
   ]
  },
  {
   "cell_type": "code",
   "execution_count": 4,
   "id": "ac4d2ac9-28c9-4a3d-b4f4-a793dbe26700",
   "metadata": {},
   "outputs": [
    {
     "ename": "TypeError",
     "evalue": "list is not a Module subclass",
     "output_type": "error",
     "traceback": [
      "\u001b[0;31m---------------------------------------------------------------------------\u001b[0m",
      "\u001b[0;31mTypeError\u001b[0m                                 Traceback (most recent call last)",
      "\u001b[0;32m/tmp/ipykernel_2374/240228064.py\u001b[0m in \u001b[0;36m<module>\u001b[0;34m\u001b[0m\n\u001b[0;32m----> 1\u001b[0;31m \u001b[0mblocks\u001b[0m\u001b[0;34m.\u001b[0m\u001b[0mappend\u001b[0m\u001b[0;34m(\u001b[0m\u001b[0;34m[\u001b[0m\u001b[0;36m1\u001b[0m\u001b[0;34m,\u001b[0m\u001b[0;36m2\u001b[0m\u001b[0;34m]\u001b[0m\u001b[0;34m)\u001b[0m\u001b[0;34m\u001b[0m\u001b[0;34m\u001b[0m\u001b[0m\n\u001b[0m",
      "\u001b[0;32m~/miniconda3/lib/python3.8/site-packages/torch/nn/modules/container.py\u001b[0m in \u001b[0;36mappend\u001b[0;34m(self, module)\u001b[0m\n\u001b[1;32m    238\u001b[0m             \u001b[0mmodule\u001b[0m \u001b[0;34m(\u001b[0m\u001b[0mnn\u001b[0m\u001b[0;34m.\u001b[0m\u001b[0mModule\u001b[0m\u001b[0;34m)\u001b[0m\u001b[0;34m:\u001b[0m \u001b[0mmodule\u001b[0m \u001b[0mto\u001b[0m \u001b[0mappend\u001b[0m\u001b[0;34m\u001b[0m\u001b[0;34m\u001b[0m\u001b[0m\n\u001b[1;32m    239\u001b[0m         \"\"\"\n\u001b[0;32m--> 240\u001b[0;31m         \u001b[0mself\u001b[0m\u001b[0;34m.\u001b[0m\u001b[0madd_module\u001b[0m\u001b[0;34m(\u001b[0m\u001b[0mstr\u001b[0m\u001b[0;34m(\u001b[0m\u001b[0mlen\u001b[0m\u001b[0;34m(\u001b[0m\u001b[0mself\u001b[0m\u001b[0;34m)\u001b[0m\u001b[0;34m)\u001b[0m\u001b[0;34m,\u001b[0m \u001b[0mmodule\u001b[0m\u001b[0;34m)\u001b[0m\u001b[0;34m\u001b[0m\u001b[0;34m\u001b[0m\u001b[0m\n\u001b[0m\u001b[1;32m    241\u001b[0m         \u001b[0;32mreturn\u001b[0m \u001b[0mself\u001b[0m\u001b[0;34m\u001b[0m\u001b[0;34m\u001b[0m\u001b[0m\n\u001b[1;32m    242\u001b[0m \u001b[0;34m\u001b[0m\u001b[0m\n",
      "\u001b[0;32m~/miniconda3/lib/python3.8/site-packages/torch/nn/modules/module.py\u001b[0m in \u001b[0;36madd_module\u001b[0;34m(self, name, module)\u001b[0m\n\u001b[1;32m    375\u001b[0m         \"\"\"\n\u001b[1;32m    376\u001b[0m         \u001b[0;32mif\u001b[0m \u001b[0;32mnot\u001b[0m \u001b[0misinstance\u001b[0m\u001b[0;34m(\u001b[0m\u001b[0mmodule\u001b[0m\u001b[0;34m,\u001b[0m \u001b[0mModule\u001b[0m\u001b[0;34m)\u001b[0m \u001b[0;32mand\u001b[0m \u001b[0mmodule\u001b[0m \u001b[0;32mis\u001b[0m \u001b[0;32mnot\u001b[0m \u001b[0;32mNone\u001b[0m\u001b[0;34m:\u001b[0m\u001b[0;34m\u001b[0m\u001b[0;34m\u001b[0m\u001b[0m\n\u001b[0;32m--> 377\u001b[0;31m             raise TypeError(\"{} is not a Module subclass\".format(\n\u001b[0m\u001b[1;32m    378\u001b[0m                 torch.typename(module)))\n\u001b[1;32m    379\u001b[0m         \u001b[0;32melif\u001b[0m \u001b[0;32mnot\u001b[0m \u001b[0misinstance\u001b[0m\u001b[0;34m(\u001b[0m\u001b[0mname\u001b[0m\u001b[0;34m,\u001b[0m \u001b[0mtorch\u001b[0m\u001b[0;34m.\u001b[0m\u001b[0m_six\u001b[0m\u001b[0;34m.\u001b[0m\u001b[0mstring_classes\u001b[0m\u001b[0;34m)\u001b[0m\u001b[0;34m:\u001b[0m\u001b[0;34m\u001b[0m\u001b[0;34m\u001b[0m\u001b[0m\n",
      "\u001b[0;31mTypeError\u001b[0m: list is not a Module subclass"
     ]
    }
   ],
   "source": [
    "blocks.append([1,2])"
   ]
  }
 ],
 "metadata": {
  "kernelspec": {
   "display_name": "Python 3 (ipykernel)",
   "language": "python",
   "name": "python3"
  },
  "language_info": {
   "codemirror_mode": {
    "name": "ipython",
    "version": 3
   },
   "file_extension": ".py",
   "mimetype": "text/x-python",
   "name": "python",
   "nbconvert_exporter": "python",
   "pygments_lexer": "ipython3",
   "version": "3.8.10"
  }
 },
 "nbformat": 4,
 "nbformat_minor": 5
}
