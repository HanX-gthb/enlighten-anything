{
 "cells": [
  {
   "cell_type": "code",
   "execution_count": 1,
   "id": "25b25533-fef0-45aa-8a4d-9918ecbbb137",
   "metadata": {},
   "outputs": [],
   "source": [
    "import torch\n",
    "from model import *\n",
    "from multi_read_data import MemoryFriendlyLoader\n"
   ]
  },
  {
   "cell_type": "code",
   "execution_count": 2,
   "id": "be2fb68f-8c99-411f-bac4-95bc21b6b2f8",
   "metadata": {},
   "outputs": [],
   "source": [
    "model = Network(stage=3)"
   ]
  },
  {
   "cell_type": "code",
   "execution_count": 3,
   "id": "1d2c42f3-aeaf-4340-ab92-4916c90625c6",
   "metadata": {},
   "outputs": [],
   "source": [
    "ValDataset = MemoryFriendlyLoader(img_dir='../LOL/val5/low', sem_dir = '../LOL/val5/high_semantic')\n",
    "val_queue = torch.utils.data.DataLoader(\n",
    "    ValDataset, batch_size=1,\n",
    "    pin_memory=True, num_workers=0, shuffle=True\n",
    ")"
   ]
  },
  {
   "cell_type": "code",
   "execution_count": 5,
   "id": "ffccab39-b226-43ff-99c2-f5e4df918e25",
   "metadata": {},
   "outputs": [],
   "source": [
    "import os"
   ]
  },
  {
   "cell_type": "code",
   "execution_count": 7,
   "id": "41bba849-5c16-4b41-8758-730df5017151",
   "metadata": {},
   "outputs": [
    {
     "name": "stdout",
     "output_type": "stream",
     "text": [
      "0 102\n",
      "1 101\n",
      "2 100\n",
      "3 104\n",
      "4 103\n"
     ]
    }
   ],
   "source": [
    "with torch.no_grad():\n",
    "    for batch_idx, (in_, sem_, imgname_, semname_ ) in enumerate(val_queue):\n",
    "        print(batch_idx, os.path.splitext(imgname_[0])[0])"
   ]
  }
 ],
 "metadata": {
  "kernelspec": {
   "display_name": "Python 3 (ipykernel)",
   "language": "python",
   "name": "python3"
  },
  "language_info": {
   "codemirror_mode": {
    "name": "ipython",
    "version": 3
   },
   "file_extension": ".py",
   "mimetype": "text/x-python",
   "name": "python",
   "nbconvert_exporter": "python",
   "pygments_lexer": "ipython3",
   "version": "3.8.10"
  }
 },
 "nbformat": 4,
 "nbformat_minor": 5
}
