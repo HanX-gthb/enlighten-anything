{
 "cells": [
  {
   "cell_type": "code",
   "execution_count": 1,
   "id": "1db843f5-1959-4d65-a640-ba223bd1045c",
   "metadata": {},
   "outputs": [
    {
     "name": "stdout",
     "output_type": "stream",
     "text": [
      "111\n",
      "111\n"
     ]
    },
    {
     "data": {
      "text/plain": [
       "Sequential(\n",
       "  (0): Conv2d(3, 64, kernel_size=(3, 3), stride=(1, 1))\n",
       "  (1): ReLU()\n",
       "  (2): Conv2d(64, 128, kernel_size=(3, 3), stride=(1, 1))\n",
       "  (3): ReLU()\n",
       ")"
      ]
     },
     "execution_count": 1,
     "metadata": {},
     "output_type": "execute_result"
    }
   ],
   "source": [
    "import torch.nn as nn\n",
    "\n",
    "def init_weights(module):\n",
    "    if isinstance(module, nn.Conv2d):\n",
    "        nn.init.kaiming_uniform_(module.weight)\n",
    "        print(\"111\")\n",
    "    \n",
    "model = nn.Sequential(\n",
    "    nn.Conv2d(3, 64, kernel_size=3),\n",
    "    nn.ReLU(),\n",
    "    nn.Conv2d(64, 128, kernel_size=3),\n",
    "    nn.ReLU()\n",
    ")\n",
    "\n",
    "model.apply(init_weights)  # 对模型中的每个卷积层应用权重初始化操作\n"
   ]
  },
  {
   "cell_type": "code",
   "execution_count": null,
   "id": "dc4b742e-fdfe-4936-8539-3e400b0b69cb",
   "metadata": {},
   "outputs": [],
   "source": []
  },
  {
   "cell_type": "markdown",
   "id": "650d37cf-9ac2-468a-8e5c-757a8513dbc3",
   "metadata": {},
   "source": [
    "+ 以下文本来自GPT. 通过了自己的测试,验证是正确的\n",
    "\n",
    "\n",
    "对于 nn.Module 对象，apply() 方法同样可以应用。它会递归地遍历整个 nn.Module 对象，并将指定的函数应用到每个子模块上。\n",
    "\n",
    "例如：\n"
   ]
  },
  {
   "cell_type": "code",
   "execution_count": null,
   "id": "37d7c4f0-07c3-4123-bda3-ae5f3682d61a",
   "metadata": {},
   "outputs": [],
   "source": [
    "\n",
    "python\n",
    "import torch.nn as nn\n",
    "\n",
    "class Net(nn.Module):\n",
    "    def __init__(self):\n",
    "        super(Net, self).__init__()\n",
    "        self.fc1 = nn.Linear(10, 20)\n",
    "        self.relu = nn.ReLU()\n",
    "        self.fc2 = nn.Linear(20, 5)\n",
    "\n",
    "    def forward(self, x):\n",
    "        x = self.fc1(x)\n",
    "        x = self.relu(x)\n",
    "        x = self.fc2(x)\n",
    "        return x\n",
    "\n",
    "def init_weights(module):\n",
    "    if type(module) == nn.Linear:\n",
    "        nn.init.xavier_uniform_(module.weight.data)\n",
    "        module.bias.data.fill_(0.01)\n",
    "\n",
    "net = Net()\n",
    "net.apply(init_weights)"
   ]
  },
  {
   "cell_type": "markdown",
   "id": "2dc3bac0-4d31-47a0-9976-e459737e16ad",
   "metadata": {},
   "source": [
    "\n",
    "在这个例子中，我们定义了一个名为 init_weights 的函数，该函数将使用 Xavier 均匀初始化权重和偏差值。然后，我们通过调用 apply() 方法并传递 init_weights 函数来递归地遍历整个网络，并将该函数应用于每个 nn.Linear 子模块。\n",
    "\n",
    "需要注意的是，在使用 apply() 方法时，需要确保所传递的函数接收单个参数，即子模块对象本身，因为 apply() 将该对象作为唯一参数传递给所指定的函数。"
   ]
  }
 ],
 "metadata": {
  "kernelspec": {
   "display_name": "Python 3 (ipykernel)",
   "language": "python",
   "name": "python3"
  },
  "language_info": {
   "codemirror_mode": {
    "name": "ipython",
    "version": 3
   },
   "file_extension": ".py",
   "mimetype": "text/x-python",
   "name": "python",
   "nbconvert_exporter": "python",
   "pygments_lexer": "ipython3",
   "version": "3.8.10"
  }
 },
 "nbformat": 4,
 "nbformat_minor": 5
}
