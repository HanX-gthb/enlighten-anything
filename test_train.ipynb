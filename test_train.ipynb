{
 "cells": [
  {
   "cell_type": "code",
   "execution_count": 14,
   "id": "5c83d15d-5801-43f8-b6dc-38edda5e2b90",
   "metadata": {},
   "outputs": [
    {
     "name": "stderr",
     "output_type": "stream",
     "text": [
      "usage: SCI [-h] [--batch_size BATCH_SIZE] [--cuda CUDA] [--gpu GPU]\n",
      "           [--seed SEED] [--epochs EPOCHS] [--lr LR] [--stage STAGE]\n",
      "           [--save SAVE]\n",
      "SCI: error: unrecognized arguments: -f /root/.local/share/jupyter/runtime/kernel-b866225e-9a4c-4b3c-9a2f-733bac51211d.json\n"
     ]
    },
    {
     "ename": "SystemExit",
     "evalue": "2",
     "output_type": "error",
     "traceback": [
      "An exception has occurred, use %tb to see the full traceback.\n",
      "\u001b[0;31mSystemExit\u001b[0m\u001b[0;31m:\u001b[0m 2\n"
     ]
    }
   ],
   "source": [
    "import os\n",
    "import sys\n",
    "import time\n",
    "import glob\n",
    "import numpy as np\n",
    "import torch\n",
    "import utils\n",
    "from PIL import Image\n",
    "import logging\n",
    "import argparse\n",
    "import torch.utils\n",
    "import torch.backends.cudnn as cudnn\n",
    "import torch.nn as nn\n",
    "from torch.autograd import Variable\n",
    "\n",
    "from model import *\n",
    "from multi_read_data import MemoryFriendlyLoader\n",
    "\n",
    "\n",
    "parser = argparse.ArgumentParser(\"SCI\")\n",
    "parser.add_argument('--batch_size', type=int, default=1, help='batch size')\n",
    "parser.add_argument('--cuda', default=True, type=bool, help='Use CUDA to train model')\n",
    "parser.add_argument('--gpu', type=str, default='0', help='gpu device id')\n",
    "parser.add_argument('--seed', type=int, default=2, help='random seed')\n",
    "parser.add_argument('--epochs', type=int, default=1000, help='epochs')\n",
    "parser.add_argument('--lr', type=float, default=0.0003, help='learning rate')\n",
    "parser.add_argument('--stage', type=int, default=3, help='epochs')\n",
    "parser.add_argument('--save', type=str, default='EXP/', help='location of the data corpus')\n",
    "\n",
    "args = parser.parse_args()\n",
    "\n",
    "os.environ[\"CUDA_VISIBLE_DEVICES\"] = args.gpu\n",
    "\n",
    "args.save = args.save + '/' + 'Train-{}'.format(time.strftime(\"%Y%m%d-%H%M%S\"))\n",
    "utils.create_exp_dir(args.save, scripts_to_save=glob.glob('*.py'))\n",
    "model_path = args.save + '/model_epochs/'\n",
    "os.makedirs(model_path, exist_ok=True)\n",
    "image_path = args.save + '/image_epochs/'\n",
    "os.makedirs(image_path, exist_ok=True)\n",
    "\n",
    "log_format = '%(asctime)s %(message)s'\n",
    "logging.basicConfig(stream=sys.stdout, level=logging.INFO,\n",
    "                    format=log_format, datefmt='%m/%d %I:%M:%S %p')\n",
    "fh = logging.FileHandler(os.path.join(args.save, 'log.txt'))\n",
    "fh.setFormatter(logging.Formatter(log_format))\n",
    "logging.getLogger().addHandler(fh)\n",
    "\n",
    "logging.info(\"train file name = %s\", os.path.split(__file__))\n",
    "\n",
    "if torch.cuda.is_available():\n",
    "    if args.cuda:\n",
    "        torch.set_default_tensor_type('torch.cuda.FloatTensor')\n",
    "    if not args.cuda:\n",
    "        print(\"WARNING: It looks like you have a CUDA device, but aren't \" +\n",
    "              \"using CUDA.\\nRun with --cuda for optimal training speed.\")\n",
    "        torch.set_default_tensor_type('torch.FloatTensor')\n",
    "else:\n",
    "    torch.set_default_tensor_type('torch.FloatTensor')\n",
    "\n",
    "\n",
    "def save_images(tensor, path):\n",
    "    image_numpy = tensor[0].cpu().float().numpy()\n",
    "    image_numpy = (np.transpose(image_numpy, (1, 2, 0)))\n",
    "    im = Image.fromarray(np.clip(image_numpy * 255.0, 0, 255.0).astype('uint8'))\n",
    "    im.save(path, 'png')\n",
    "\n",
    "\n",
    "def main():\n",
    "    if not torch.cuda.is_available():\n",
    "        logging.info('no gpu device available')\n",
    "        sys.exit(1)\n",
    "\n",
    "    np.random.seed(args.seed)\n",
    "    cudnn.benchmark = True\n",
    "    torch.manual_seed(args.seed)\n",
    "    cudnn.enabled = True\n",
    "    torch.cuda.manual_seed(args.seed)\n",
    "    logging.info('gpu device = %s' % args.gpu)\n",
    "    logging.info(\"args = %s\", args)\n",
    "\n",
    "\n",
    "    model = Network(stage=args.stage)\n",
    "\n",
    "    model.enhance.in_conv.apply(model.weights_init)\n",
    "    model.enhance.conv.apply(model.weights_init)\n",
    "    model.enhance.out_conv.apply(model.weights_init)\n",
    "    model.calibrate.in_conv.apply(model.weights_init)\n",
    "    model.calibrate.convs.apply(model.weights_init)\n",
    "    model.calibrate.out_conv.apply(model.weights_init)\n",
    "\n",
    "    model = model.cuda()\n",
    "    optimizer = torch.optim.Adam(model.parameters(), lr=args.lr, betas=(0.9, 0.999), weight_decay=3e-4)\n",
    "    MB = utils.count_parameters_in_MB(model)\n",
    "    logging.info(\"model size = %f\", MB)\n",
    "    print(MB)\n",
    "\n",
    "\n",
    "    TrainDataset = MemoryFriendlyLoader(img_dir='../LOL/train480/high')\n",
    "    ValDataset = MemoryFriendlyLoader(img_dir='../LOL/val5/high')\n",
    "\n",
    "    train_queue = torch.utils.data.DataLoader(\n",
    "        TrainDataset, batch_size=args.batch_size,\n",
    "        pin_memory=True, num_workers=0, shuffle=True)\n",
    "    val_queue = torch.utils.data.DataLoader(\n",
    "        TestDataset, batch_size=1,\n",
    "        pin_memory=True, num_workers=0, shuffle=True)\n",
    "\n",
    "\n",
    "    total_step = 0\n",
    "\n",
    "    for epoch in range(args.epochs):\n",
    "        model.train()\n",
    "        losses = []\n",
    "        for batch_idx, (in_, sem_, imgname_, semname_ ) in enumerate(train_queue):\n",
    "            total_step += 1\n",
    "            input = Variable(in_, requires_grad=False).cuda()\n",
    "\n",
    "            optimizer.zero_grad()\n",
    "            loss = model._loss(input)\n",
    "            loss.backward()\n",
    "            nn.utils.clip_grad_norm_(model.parameters(), 5)\n",
    "            optimizer.step()\n",
    "\n",
    "            losses.append(loss.item())\n",
    "            logging.info('train-epoch %03d %03d %f', epoch, batch_idx, loss)\n",
    "\n",
    "\n",
    "\n",
    "        logging.info('train-epoch %03d %f', epoch, np.average(losses))\n",
    "        utils.save(model, os.path.join(model_path, 'weights_%d.pt' % epoch))\n",
    "\n",
    "        if epoch % 1 == 0 and total_step != 0:\n",
    "            logging.info('train %03d %f', epoch, loss)\n",
    "            model.eval()\n",
    "            with torch.no_grad():\n",
    "                for batch_idx, (in_, sem_, imgname_, semname_ ) in enumerate(val_queue):\n",
    "                    in_ = Variable(in_, volatile=True).cuda()\n",
    "                    image_name = imgname_[0].split('\\\\')[-1].split('.')[0]\n",
    "                    illu_list, ref_list, input_list, atten= model(in_, sem_)\n",
    "                    u_name = '%s.png' % (image_name + '_' + str(epoch))\n",
    "                    u_path = image_path + '/' + u_name\n",
    "                    save_images(ref_list[0], u_path)\n",
    "        break\n",
    "\n",
    "if __name__ == '__main__':\n",
    "    main()\n"
   ]
  },
  {
   "cell_type": "code",
   "execution_count": 15,
   "id": "2af771d3-6749-4790-91da-13f4cc87a815",
   "metadata": {},
   "outputs": [
    {
     "ename": "SystemExit",
     "evalue": "2",
     "output_type": "error",
     "traceback": [
      "\u001b[0;31m---------------------------------------------------------------------------\u001b[0m",
      "\u001b[0;31mSystemExit\u001b[0m                                Traceback (most recent call last)",
      "\u001b[0;32m/tmp/ipykernel_516/4289707028.py\u001b[0m in \u001b[0;36m<module>\u001b[0;34m\u001b[0m\n\u001b[1;32m     28\u001b[0m \u001b[0mparser\u001b[0m\u001b[0;34m.\u001b[0m\u001b[0madd_argument\u001b[0m\u001b[0;34m(\u001b[0m\u001b[0;34m'--save'\u001b[0m\u001b[0;34m,\u001b[0m \u001b[0mtype\u001b[0m\u001b[0;34m=\u001b[0m\u001b[0mstr\u001b[0m\u001b[0;34m,\u001b[0m \u001b[0mdefault\u001b[0m\u001b[0;34m=\u001b[0m\u001b[0;34m'EXP/'\u001b[0m\u001b[0;34m,\u001b[0m \u001b[0mhelp\u001b[0m\u001b[0;34m=\u001b[0m\u001b[0;34m'location of the data corpus'\u001b[0m\u001b[0;34m)\u001b[0m\u001b[0;34m\u001b[0m\u001b[0;34m\u001b[0m\u001b[0m\n\u001b[1;32m     29\u001b[0m \u001b[0;34m\u001b[0m\u001b[0m\n\u001b[0;32m---> 30\u001b[0;31m \u001b[0margs\u001b[0m \u001b[0;34m=\u001b[0m \u001b[0mparser\u001b[0m\u001b[0;34m.\u001b[0m\u001b[0mparse_args\u001b[0m\u001b[0;34m(\u001b[0m\u001b[0;34m)\u001b[0m\u001b[0;34m\u001b[0m\u001b[0;34m\u001b[0m\u001b[0m\n\u001b[0m\u001b[1;32m     31\u001b[0m \u001b[0;34m\u001b[0m\u001b[0m\n\u001b[1;32m     32\u001b[0m \u001b[0mos\u001b[0m\u001b[0;34m.\u001b[0m\u001b[0menviron\u001b[0m\u001b[0;34m[\u001b[0m\u001b[0;34m\"CUDA_VISIBLE_DEVICES\"\u001b[0m\u001b[0;34m]\u001b[0m \u001b[0;34m=\u001b[0m \u001b[0margs\u001b[0m\u001b[0;34m.\u001b[0m\u001b[0mgpu\u001b[0m\u001b[0;34m\u001b[0m\u001b[0;34m\u001b[0m\u001b[0m\n",
      "\u001b[0;32m~/miniconda3/lib/python3.8/argparse.py\u001b[0m in \u001b[0;36mparse_args\u001b[0;34m(self, args, namespace)\u001b[0m\n\u001b[1;32m   1769\u001b[0m         \u001b[0;32mif\u001b[0m \u001b[0margv\u001b[0m\u001b[0;34m:\u001b[0m\u001b[0;34m\u001b[0m\u001b[0;34m\u001b[0m\u001b[0m\n\u001b[1;32m   1770\u001b[0m             \u001b[0mmsg\u001b[0m \u001b[0;34m=\u001b[0m \u001b[0m_\u001b[0m\u001b[0;34m(\u001b[0m\u001b[0;34m'unrecognized arguments: %s'\u001b[0m\u001b[0;34m)\u001b[0m\u001b[0;34m\u001b[0m\u001b[0;34m\u001b[0m\u001b[0m\n\u001b[0;32m-> 1771\u001b[0;31m             \u001b[0mself\u001b[0m\u001b[0;34m.\u001b[0m\u001b[0merror\u001b[0m\u001b[0;34m(\u001b[0m\u001b[0mmsg\u001b[0m \u001b[0;34m%\u001b[0m \u001b[0;34m' '\u001b[0m\u001b[0;34m.\u001b[0m\u001b[0mjoin\u001b[0m\u001b[0;34m(\u001b[0m\u001b[0margv\u001b[0m\u001b[0;34m)\u001b[0m\u001b[0;34m)\u001b[0m\u001b[0;34m\u001b[0m\u001b[0;34m\u001b[0m\u001b[0m\n\u001b[0m\u001b[1;32m   1772\u001b[0m         \u001b[0;32mreturn\u001b[0m \u001b[0margs\u001b[0m\u001b[0;34m\u001b[0m\u001b[0;34m\u001b[0m\u001b[0m\n\u001b[1;32m   1773\u001b[0m \u001b[0;34m\u001b[0m\u001b[0m\n",
      "\u001b[0;32m~/miniconda3/lib/python3.8/argparse.py\u001b[0m in \u001b[0;36merror\u001b[0;34m(self, message)\u001b[0m\n\u001b[1;32m   2519\u001b[0m         \u001b[0mself\u001b[0m\u001b[0;34m.\u001b[0m\u001b[0mprint_usage\u001b[0m\u001b[0;34m(\u001b[0m\u001b[0m_sys\u001b[0m\u001b[0;34m.\u001b[0m\u001b[0mstderr\u001b[0m\u001b[0;34m)\u001b[0m\u001b[0;34m\u001b[0m\u001b[0;34m\u001b[0m\u001b[0m\n\u001b[1;32m   2520\u001b[0m         \u001b[0margs\u001b[0m \u001b[0;34m=\u001b[0m \u001b[0;34m{\u001b[0m\u001b[0;34m'prog'\u001b[0m\u001b[0;34m:\u001b[0m \u001b[0mself\u001b[0m\u001b[0;34m.\u001b[0m\u001b[0mprog\u001b[0m\u001b[0;34m,\u001b[0m \u001b[0;34m'message'\u001b[0m\u001b[0;34m:\u001b[0m \u001b[0mmessage\u001b[0m\u001b[0;34m}\u001b[0m\u001b[0;34m\u001b[0m\u001b[0;34m\u001b[0m\u001b[0m\n\u001b[0;32m-> 2521\u001b[0;31m         \u001b[0mself\u001b[0m\u001b[0;34m.\u001b[0m\u001b[0mexit\u001b[0m\u001b[0;34m(\u001b[0m\u001b[0;36m2\u001b[0m\u001b[0;34m,\u001b[0m \u001b[0m_\u001b[0m\u001b[0;34m(\u001b[0m\u001b[0;34m'%(prog)s: error: %(message)s\\n'\u001b[0m\u001b[0;34m)\u001b[0m \u001b[0;34m%\u001b[0m \u001b[0margs\u001b[0m\u001b[0;34m)\u001b[0m\u001b[0;34m\u001b[0m\u001b[0;34m\u001b[0m\u001b[0m\n\u001b[0m",
      "\u001b[0;32m~/miniconda3/lib/python3.8/argparse.py\u001b[0m in \u001b[0;36mexit\u001b[0;34m(self, status, message)\u001b[0m\n\u001b[1;32m   2506\u001b[0m         \u001b[0;32mif\u001b[0m \u001b[0mmessage\u001b[0m\u001b[0;34m:\u001b[0m\u001b[0;34m\u001b[0m\u001b[0;34m\u001b[0m\u001b[0m\n\u001b[1;32m   2507\u001b[0m             \u001b[0mself\u001b[0m\u001b[0;34m.\u001b[0m\u001b[0m_print_message\u001b[0m\u001b[0;34m(\u001b[0m\u001b[0mmessage\u001b[0m\u001b[0;34m,\u001b[0m \u001b[0m_sys\u001b[0m\u001b[0;34m.\u001b[0m\u001b[0mstderr\u001b[0m\u001b[0;34m)\u001b[0m\u001b[0;34m\u001b[0m\u001b[0;34m\u001b[0m\u001b[0m\n\u001b[0;32m-> 2508\u001b[0;31m         \u001b[0m_sys\u001b[0m\u001b[0;34m.\u001b[0m\u001b[0mexit\u001b[0m\u001b[0;34m(\u001b[0m\u001b[0mstatus\u001b[0m\u001b[0;34m)\u001b[0m\u001b[0;34m\u001b[0m\u001b[0;34m\u001b[0m\u001b[0m\n\u001b[0m\u001b[1;32m   2509\u001b[0m \u001b[0;34m\u001b[0m\u001b[0m\n\u001b[1;32m   2510\u001b[0m     \u001b[0;32mdef\u001b[0m \u001b[0merror\u001b[0m\u001b[0;34m(\u001b[0m\u001b[0mself\u001b[0m\u001b[0;34m,\u001b[0m \u001b[0mmessage\u001b[0m\u001b[0;34m)\u001b[0m\u001b[0;34m:\u001b[0m\u001b[0;34m\u001b[0m\u001b[0;34m\u001b[0m\u001b[0m\n",
      "\u001b[0;31mSystemExit\u001b[0m: 2"
     ]
    }
   ],
   "source": [
    "%tb"
   ]
  },
  {
   "cell_type": "code",
   "execution_count": 4,
   "id": "87e707da-fbb0-4fef-8494-fcc76d0125a8",
   "metadata": {},
   "outputs": [],
   "source": [
    "import torch.nn as nn\n",
    "in_conv = torch.nn.Sequential(\n",
    "            nn.Conv2d(in_channels=3, out_channels=10, kernel_size=3, stride=1, padding=1),\n",
    "            nn.BatchNorm2d(channels),\n",
    "            nn.ReLU()\n",
    "        )"
   ]
  },
  {
   "cell_type": "code",
   "execution_count": 6,
   "id": "2f894110-761d-4d0c-bb4b-56ec64070387",
   "metadata": {},
   "outputs": [
    {
     "data": {
      "text/plain": [
       "False"
      ]
     },
     "execution_count": 6,
     "metadata": {},
     "output_type": "execute_result"
    }
   ],
   "source": [
    "isinstance(in_conv, nn.Conv2d)"
   ]
  },
  {
   "cell_type": "code",
   "execution_count": 2,
   "id": "8e34fda4-709f-4549-9ffd-d171706c5039",
   "metadata": {},
   "outputs": [],
   "source": [
    "import torch\n",
    "from model import *"
   ]
  },
  {
   "cell_type": "code",
   "execution_count": 4,
   "id": "54db51d2-f511-41a0-a000-d28bd8bddb20",
   "metadata": {},
   "outputs": [],
   "source": [
    "model = Network(stage=3)"
   ]
  },
  {
   "cell_type": "code",
   "execution_count": 7,
   "id": "8758f1a4-33ef-48a7-8854-8f6856801a51",
   "metadata": {
    "collapsed": true,
    "jupyter": {
     "outputs_hidden": true
    },
    "tags": []
   },
   "outputs": [
    {
     "name": "stdout",
     "output_type": "stream",
     "text": [
      "enhance.in_conv.0.weight\n",
      "enhance.in_conv.0.bias\n",
      "enhance.fusion.conv.0.weight\n",
      "enhance.fusion.conv.0.bias\n",
      "enhance.fusion.conv.1.weight\n",
      "enhance.fusion.conv.1.bias\n",
      "enhance.fusion.conv.1.running_mean\n",
      "enhance.fusion.conv.1.running_var\n",
      "enhance.fusion.conv.1.num_batches_tracked\n",
      "enhance.conv.0.weight\n",
      "enhance.conv.0.bias\n",
      "enhance.conv.1.weight\n",
      "enhance.conv.1.bias\n",
      "enhance.conv.1.running_mean\n",
      "enhance.conv.1.running_var\n",
      "enhance.conv.1.num_batches_tracked\n",
      "enhance.blocks.0.0.weight\n",
      "enhance.blocks.0.0.bias\n",
      "enhance.blocks.0.1.weight\n",
      "enhance.blocks.0.1.bias\n",
      "enhance.blocks.0.1.running_mean\n",
      "enhance.blocks.0.1.running_var\n",
      "enhance.blocks.0.1.num_batches_tracked\n",
      "enhance.out_conv.0.weight\n",
      "enhance.out_conv.0.bias\n",
      "calibrate.in_conv.0.weight\n",
      "calibrate.in_conv.0.bias\n",
      "calibrate.in_conv.1.weight\n",
      "calibrate.in_conv.1.bias\n",
      "calibrate.in_conv.1.running_mean\n",
      "calibrate.in_conv.1.running_var\n",
      "calibrate.in_conv.1.num_batches_tracked\n",
      "calibrate.convs.0.weight\n",
      "calibrate.convs.0.bias\n",
      "calibrate.convs.1.weight\n",
      "calibrate.convs.1.bias\n",
      "calibrate.convs.1.running_mean\n",
      "calibrate.convs.1.running_var\n",
      "calibrate.convs.1.num_batches_tracked\n",
      "calibrate.convs.3.weight\n",
      "calibrate.convs.3.bias\n",
      "calibrate.convs.4.weight\n",
      "calibrate.convs.4.bias\n",
      "calibrate.convs.4.running_mean\n",
      "calibrate.convs.4.running_var\n",
      "calibrate.convs.4.num_batches_tracked\n",
      "calibrate.blocks.0.0.weight\n",
      "calibrate.blocks.0.0.bias\n",
      "calibrate.blocks.0.1.weight\n",
      "calibrate.blocks.0.1.bias\n",
      "calibrate.blocks.0.1.running_mean\n",
      "calibrate.blocks.0.1.running_var\n",
      "calibrate.blocks.0.1.num_batches_tracked\n",
      "calibrate.blocks.0.3.weight\n",
      "calibrate.blocks.0.3.bias\n",
      "calibrate.blocks.0.4.weight\n",
      "calibrate.blocks.0.4.bias\n",
      "calibrate.blocks.0.4.running_mean\n",
      "calibrate.blocks.0.4.running_var\n",
      "calibrate.blocks.0.4.num_batches_tracked\n",
      "calibrate.blocks.1.0.weight\n",
      "calibrate.blocks.1.0.bias\n",
      "calibrate.blocks.1.1.weight\n",
      "calibrate.blocks.1.1.bias\n",
      "calibrate.blocks.1.1.running_mean\n",
      "calibrate.blocks.1.1.running_var\n",
      "calibrate.blocks.1.1.num_batches_tracked\n",
      "calibrate.blocks.1.3.weight\n",
      "calibrate.blocks.1.3.bias\n",
      "calibrate.blocks.1.4.weight\n",
      "calibrate.blocks.1.4.bias\n",
      "calibrate.blocks.1.4.running_mean\n",
      "calibrate.blocks.1.4.running_var\n",
      "calibrate.blocks.1.4.num_batches_tracked\n",
      "calibrate.blocks.2.0.weight\n",
      "calibrate.blocks.2.0.bias\n",
      "calibrate.blocks.2.1.weight\n",
      "calibrate.blocks.2.1.bias\n",
      "calibrate.blocks.2.1.running_mean\n",
      "calibrate.blocks.2.1.running_var\n",
      "calibrate.blocks.2.1.num_batches_tracked\n",
      "calibrate.blocks.2.3.weight\n",
      "calibrate.blocks.2.3.bias\n",
      "calibrate.blocks.2.4.weight\n",
      "calibrate.blocks.2.4.bias\n",
      "calibrate.blocks.2.4.running_mean\n",
      "calibrate.blocks.2.4.running_var\n",
      "calibrate.blocks.2.4.num_batches_tracked\n",
      "calibrate.out_conv.0.weight\n",
      "calibrate.out_conv.0.bias\n"
     ]
    }
   ],
   "source": [
    "model_dict = model.state_dict()\n",
    "for k, v in model_dict.items():\n",
    "    print(k)"
   ]
  },
  {
   "cell_type": "code",
   "execution_count": 6,
   "id": "2f8e277b-3258-4cff-9910-e652ed39b134",
   "metadata": {
    "collapsed": true,
    "jupyter": {
     "outputs_hidden": true
    },
    "tags": []
   },
   "outputs": [
    {
     "name": "stdout",
     "output_type": "stream",
     "text": [
      "enhance.in_conv.0.weight\n",
      "enhance.in_conv.0.bias\n",
      "enhance.conv.0.weight\n",
      "enhance.conv.0.bias\n",
      "enhance.conv.1.weight\n",
      "enhance.conv.1.bias\n",
      "enhance.conv.1.running_mean\n",
      "enhance.conv.1.running_var\n",
      "enhance.conv.1.num_batches_tracked\n",
      "enhance.blocks.0.0.weight\n",
      "enhance.blocks.0.0.bias\n",
      "enhance.blocks.0.1.weight\n",
      "enhance.blocks.0.1.bias\n",
      "enhance.blocks.0.1.running_mean\n",
      "enhance.blocks.0.1.running_var\n",
      "enhance.blocks.0.1.num_batches_tracked\n",
      "enhance.out_conv.0.weight\n",
      "enhance.out_conv.0.bias\n",
      "calibrate.in_conv.0.weight\n",
      "calibrate.in_conv.0.bias\n",
      "calibrate.in_conv.1.weight\n",
      "calibrate.in_conv.1.bias\n",
      "calibrate.in_conv.1.running_mean\n",
      "calibrate.in_conv.1.running_var\n",
      "calibrate.in_conv.1.num_batches_tracked\n",
      "calibrate.convs.0.weight\n",
      "calibrate.convs.0.bias\n",
      "calibrate.convs.1.weight\n",
      "calibrate.convs.1.bias\n",
      "calibrate.convs.1.running_mean\n",
      "calibrate.convs.1.running_var\n",
      "calibrate.convs.1.num_batches_tracked\n",
      "calibrate.convs.3.weight\n",
      "calibrate.convs.3.bias\n",
      "calibrate.convs.4.weight\n",
      "calibrate.convs.4.bias\n",
      "calibrate.convs.4.running_mean\n",
      "calibrate.convs.4.running_var\n",
      "calibrate.convs.4.num_batches_tracked\n",
      "calibrate.blocks.0.0.weight\n",
      "calibrate.blocks.0.0.bias\n",
      "calibrate.blocks.0.1.weight\n",
      "calibrate.blocks.0.1.bias\n",
      "calibrate.blocks.0.1.running_mean\n",
      "calibrate.blocks.0.1.running_var\n",
      "calibrate.blocks.0.1.num_batches_tracked\n",
      "calibrate.blocks.0.3.weight\n",
      "calibrate.blocks.0.3.bias\n",
      "calibrate.blocks.0.4.weight\n",
      "calibrate.blocks.0.4.bias\n",
      "calibrate.blocks.0.4.running_mean\n",
      "calibrate.blocks.0.4.running_var\n",
      "calibrate.blocks.0.4.num_batches_tracked\n",
      "calibrate.blocks.1.0.weight\n",
      "calibrate.blocks.1.0.bias\n",
      "calibrate.blocks.1.1.weight\n",
      "calibrate.blocks.1.1.bias\n",
      "calibrate.blocks.1.1.running_mean\n",
      "calibrate.blocks.1.1.running_var\n",
      "calibrate.blocks.1.1.num_batches_tracked\n",
      "calibrate.blocks.1.3.weight\n",
      "calibrate.blocks.1.3.bias\n",
      "calibrate.blocks.1.4.weight\n",
      "calibrate.blocks.1.4.bias\n",
      "calibrate.blocks.1.4.running_mean\n",
      "calibrate.blocks.1.4.running_var\n",
      "calibrate.blocks.1.4.num_batches_tracked\n",
      "calibrate.blocks.2.0.weight\n",
      "calibrate.blocks.2.0.bias\n",
      "calibrate.blocks.2.1.weight\n",
      "calibrate.blocks.2.1.bias\n",
      "calibrate.blocks.2.1.running_mean\n",
      "calibrate.blocks.2.1.running_var\n",
      "calibrate.blocks.2.1.num_batches_tracked\n",
      "calibrate.blocks.2.3.weight\n",
      "calibrate.blocks.2.3.bias\n",
      "calibrate.blocks.2.4.weight\n",
      "calibrate.blocks.2.4.bias\n",
      "calibrate.blocks.2.4.running_mean\n",
      "calibrate.blocks.2.4.running_var\n",
      "calibrate.blocks.2.4.num_batches_tracked\n",
      "calibrate.out_conv.0.weight\n",
      "calibrate.out_conv.0.bias\n"
     ]
    }
   ],
   "source": [
    "base_weights = torch.load('./weights/difficult.pt')\n",
    "pretrained_dict = base_weights\n",
    "for k, v in pretrained_dict.items():\n",
    "    print(k)\n",
    "# model_dict = self.state_dict()\n",
    "# pretrained_dict = {k: v for k, v in pretrained_dict.items() if k in model_dict}\n",
    "# model_dict.update(pretrained_dict)\n",
    "# self.load_state_dict(model_dict)"
   ]
  },
  {
   "cell_type": "code",
   "execution_count": 8,
   "id": "b85c20a4-2884-46b8-8f33-84092183e69d",
   "metadata": {},
   "outputs": [
    {
     "data": {
      "text/plain": [
       "83"
      ]
     },
     "execution_count": 8,
     "metadata": {},
     "output_type": "execute_result"
    }
   ],
   "source": [
    "sum = 0 \n",
    "for k, v in pretrained_dict.items():\n",
    "    if k in model_dict:\n",
    "        sum+=1\n",
    "sum"
   ]
  },
  {
   "cell_type": "code",
   "execution_count": 9,
   "id": "3f6536f9-6fed-4446-bcba-f536a500bc3d",
   "metadata": {},
   "outputs": [
    {
     "data": {
      "text/plain": [
       "83"
      ]
     },
     "execution_count": 9,
     "metadata": {},
     "output_type": "execute_result"
    }
   ],
   "source": [
    "len(pretrained_dict)"
   ]
  }
 ],
 "metadata": {
  "kernelspec": {
   "display_name": "Python 3 (ipykernel)",
   "language": "python",
   "name": "python3"
  },
  "language_info": {
   "codemirror_mode": {
    "name": "ipython",
    "version": 3
   },
   "file_extension": ".py",
   "mimetype": "text/x-python",
   "name": "python",
   "nbconvert_exporter": "python",
   "pygments_lexer": "ipython3",
   "version": "3.8.10"
  }
 },
 "nbformat": 4,
 "nbformat_minor": 5
}
